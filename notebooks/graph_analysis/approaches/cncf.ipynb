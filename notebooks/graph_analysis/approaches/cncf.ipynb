{
 "cells": [
  {
   "cell_type": "markdown",
   "metadata": {},
   "source": [
    "# Identify emerging and important projects related to Red Hat using graphical analysis\n",
    "\n",
    "In the [graph analysis notebook](./graph_analysis.ipynb), we explored relationships between open source projects and communities by studying graphs. We explored relations such as common contributors and project activities between different GitHub repositories.\n",
    "\n",
    "In this notebook, our aim is to leverage the graph representation techniques we explored in the previous notebook and apply algorithms such as PageRank, Betweenness Centrality to find important emerging projects for Red Hat."
   ]
  },
  {
   "cell_type": "markdown",
   "metadata": {},
   "source": [
    "## Connect to Augur database\n",
    "\n",
    "We will be fetching the data from an Augur database which stores the GitHub data for a large number of open source repositories."
   ]
  },
  {
   "cell_type": "code",
   "execution_count": 1,
   "metadata": {},
   "outputs": [],
   "source": [
    "import pandas as pd\n",
    "import psycopg2\n",
    "import itertools\n",
    "import collections\n",
    "from operator import itemgetter\n",
    "\n",
    "import sqlalchemy as salc\n",
    "import json\n",
    "import networkx as nx\n",
    "import matplotlib.pyplot as plt\n",
    "import matplotlib.patches as mpatches\n",
    "\n",
    "from ipynb.fs.defs.graph_helper_functions import (\n",
    "     get_repos,\n",
    "     get_issue_contributors,\n",
    "     get_pr_contributors,\n",
    "     get_commit_contributors,\n",
    "     get_prr_contributors,\n",
    "     created_melted_dfs,\n",
    "     get_repos_outside,\n",
    "     get_page_ranks,\n",
    "     get_betweenness_centrality,\n",
    "     get_closeness_centrality,\n",
    "     plot_graph,\n",
    "     project_nodes_edges_contributions\n",
    ")\n",
    "\n",
    "with open(\"../comm_cage.json\") as config_file:\n",
    "    config = json.load(config_file)"
   ]
  },
  {
   "cell_type": "code",
   "execution_count": 2,
   "metadata": {},
   "outputs": [],
   "source": [
    "database_connection_string = 'postgresql+psycopg2://{}:{}@{}:{}/{}'.format(config['user'], config['password'], config['host'], config['port'], config['database'])\n",
    "\n",
    "dbschema='augur_data'\n",
    "engine = salc.create_engine(\n",
    "    database_connection_string,\n",
    "    connect_args={'options': '-csearch_path={}'.format(dbschema)})"
   ]
  },
  {
   "cell_type": "code",
   "execution_count": 3,
   "metadata": {},
   "outputs": [],
   "source": [
    "READ_LOCALLY = False"
   ]
  },
  {
   "cell_type": "markdown",
   "metadata": {},
   "source": [
    "## Retrieve Available Repositories"
   ]
  },
  {
   "cell_type": "markdown",
   "metadata": {},
   "source": [
    "We start by feeding an initial list of projects out of which we track projects in 2 categories:\n",
    "\n",
    "1. Red Hat affiliated projects (which include upstream project mappings of Red Hat products), and\n",
    "2. Projects of potential interest to Red Hat"
   ]
  },
  {
   "cell_type": "code",
   "execution_count": 4,
   "metadata": {},
   "outputs": [],
   "source": [
    "with open('./graduated_cncf_repos.txt', 'r') as f:\n",
    "    graduated_projects = [line.strip() for line in f]"
   ]
  },
  {
   "cell_type": "code",
   "execution_count": 5,
   "metadata": {},
   "outputs": [],
   "source": [
    "with open('./incubating_cncf_repos.txt', 'r') as f:\n",
    "    incubating_projects = [line.strip() for line in f]"
   ]
  },
  {
   "cell_type": "code",
   "execution_count": 6,
   "metadata": {},
   "outputs": [],
   "source": [
    "with open('./sandbox_cncf_repos.txt', 'r') as f:\n",
    "    sandbox_projects = [line.strip() for line in f]"
   ]
  },
  {
   "cell_type": "code",
   "execution_count": 7,
   "metadata": {},
   "outputs": [],
   "source": [
    "repo_set_graduated, repo_name_set_graduated = get_repos(graduated_projects, engine)"
   ]
  },
  {
   "cell_type": "code",
   "execution_count": 8,
   "metadata": {},
   "outputs": [],
   "source": [
    "repo_set_incubating, repo_name_set_incubating = get_repos(incubating_projects, engine)"
   ]
  },
  {
   "cell_type": "code",
   "execution_count": 9,
   "metadata": {},
   "outputs": [],
   "source": [
    "repo_set_sandbox, repo_name_set_sandbox = get_repos(sandbox_projects, engine)"
   ]
  },
  {
   "cell_type": "code",
   "execution_count": 10,
   "metadata": {},
   "outputs": [],
   "source": [
    "repo_set = repo_set_incubating + repo_set_graduated + repo_set_sandbox\n",
    "repo_name_set = repo_name_set_incubating + repo_name_set_graduated + repo_name_set_sandbox"
   ]
  },
  {
   "cell_type": "markdown",
   "metadata": {},
   "source": [
    "### Retrieve Issue Contributors\n",
    "\n",
    "We will now fetch all Issue contributors for various repositories."
   ]
  },
  {
   "cell_type": "code",
   "execution_count": 11,
   "metadata": {},
   "outputs": [
    {
     "name": "stderr",
     "output_type": "stream",
     "text": [
      "/opt/app-root/lib64/python3.8/site-packages/pandas/core/ops/array_ops.py:73: FutureWarning: Comparison of Timestamp with datetime.date is deprecated in order to match the standard library behavior.  In a future version these will be considered non-comparable.Use 'ts == pd.Timestamp(date)' or 'ts.date() == date' instead.\n",
      "  result = libops.scalar_compare(x.ravel(), y, op)\n"
     ]
    }
   ],
   "source": [
    "if READ_LOCALLY:\n",
    "\n",
    "    issue_contrib = pd.read_pickle(\"ep_data/issue_contrib.pkl\")\n",
    "\n",
    "else:\n",
    "\n",
    "    issue_contrib = get_issue_contributors(repo_set, engine)\n",
    "    issue_contrib['created_at_dt'] = issue_contrib['created_at'].dt.date\n",
    "    date_range = (issue_contrib['created_at_dt'] > pd.to_datetime('2011-01-01')) & (issue_contrib['created_at_dt'] <= pd.to_datetime('2014-06-30'))\n",
    "    issue_contrib = issue_contrib.loc[date_range]\n",
    "    issue_contrib.to_pickle(\"ep_data/issue_contrib.pkl\")  "
   ]
  },
  {
   "cell_type": "code",
   "execution_count": 12,
   "metadata": {},
   "outputs": [
    {
     "data": {
      "text/html": [
       "<div>\n",
       "<style scoped>\n",
       "    .dataframe tbody tr th:only-of-type {\n",
       "        vertical-align: middle;\n",
       "    }\n",
       "\n",
       "    .dataframe tbody tr th {\n",
       "        vertical-align: top;\n",
       "    }\n",
       "\n",
       "    .dataframe thead th {\n",
       "        text-align: right;\n",
       "    }\n",
       "</style>\n",
       "<table border=\"1\" class=\"dataframe\">\n",
       "  <thead>\n",
       "    <tr style=\"text-align: right;\">\n",
       "      <th></th>\n",
       "      <th>repo_id</th>\n",
       "      <th>repo_git</th>\n",
       "      <th>repo_name</th>\n",
       "      <th>cntrb_id</th>\n",
       "      <th>action</th>\n",
       "      <th>issue_id</th>\n",
       "      <th>created_at</th>\n",
       "      <th>created_at_dt</th>\n",
       "    </tr>\n",
       "  </thead>\n",
       "  <tbody>\n",
       "    <tr>\n",
       "      <th>8380</th>\n",
       "      <td>61038</td>\n",
       "      <td>https://github.com/fluent/fluentd</td>\n",
       "      <td>fluentd</td>\n",
       "      <td>01000042-2000-0000-0000-000000000000</td>\n",
       "      <td>closed</td>\n",
       "      <td>14418887</td>\n",
       "      <td>2011-10-30 17:57:57</td>\n",
       "      <td>2011-10-30</td>\n",
       "    </tr>\n",
       "    <tr>\n",
       "      <th>8420</th>\n",
       "      <td>61038</td>\n",
       "      <td>https://github.com/fluent/fluentd</td>\n",
       "      <td>fluentd</td>\n",
       "      <td>01000042-2000-0000-0000-000000000000</td>\n",
       "      <td>closed</td>\n",
       "      <td>14418769</td>\n",
       "      <td>2014-05-13 03:56:19</td>\n",
       "      <td>2014-05-13</td>\n",
       "    </tr>\n",
       "    <tr>\n",
       "      <th>9362</th>\n",
       "      <td>61038</td>\n",
       "      <td>https://github.com/fluent/fluentd</td>\n",
       "      <td>fluentd</td>\n",
       "      <td>01000042-2000-0000-0000-000000000000</td>\n",
       "      <td>closed</td>\n",
       "      <td>14418751</td>\n",
       "      <td>2014-06-26 13:53:04</td>\n",
       "      <td>2014-06-26</td>\n",
       "    </tr>\n",
       "    <tr>\n",
       "      <th>9363</th>\n",
       "      <td>61038</td>\n",
       "      <td>https://github.com/fluent/fluentd</td>\n",
       "      <td>fluentd</td>\n",
       "      <td>01000042-2000-0000-0000-000000000000</td>\n",
       "      <td>closed</td>\n",
       "      <td>14418753</td>\n",
       "      <td>2014-06-20 17:18:47</td>\n",
       "      <td>2014-06-20</td>\n",
       "    </tr>\n",
       "    <tr>\n",
       "      <th>9364</th>\n",
       "      <td>61038</td>\n",
       "      <td>https://github.com/fluent/fluentd</td>\n",
       "      <td>fluentd</td>\n",
       "      <td>010002b9-7a00-0000-0000-000000000000</td>\n",
       "      <td>closed</td>\n",
       "      <td>14418755</td>\n",
       "      <td>2014-06-17 16:22:09</td>\n",
       "      <td>2014-06-17</td>\n",
       "    </tr>\n",
       "  </tbody>\n",
       "</table>\n",
       "</div>"
      ],
      "text/plain": [
       "     repo_id                           repo_git repo_name  \\\n",
       "8380   61038  https://github.com/fluent/fluentd   fluentd   \n",
       "8420   61038  https://github.com/fluent/fluentd   fluentd   \n",
       "9362   61038  https://github.com/fluent/fluentd   fluentd   \n",
       "9363   61038  https://github.com/fluent/fluentd   fluentd   \n",
       "9364   61038  https://github.com/fluent/fluentd   fluentd   \n",
       "\n",
       "                                  cntrb_id  action  issue_id  \\\n",
       "8380  01000042-2000-0000-0000-000000000000  closed  14418887   \n",
       "8420  01000042-2000-0000-0000-000000000000  closed  14418769   \n",
       "9362  01000042-2000-0000-0000-000000000000  closed  14418751   \n",
       "9363  01000042-2000-0000-0000-000000000000  closed  14418753   \n",
       "9364  010002b9-7a00-0000-0000-000000000000  closed  14418755   \n",
       "\n",
       "              created_at created_at_dt  \n",
       "8380 2011-10-30 17:57:57    2011-10-30  \n",
       "8420 2014-05-13 03:56:19    2014-05-13  \n",
       "9362 2014-06-26 13:53:04    2014-06-26  \n",
       "9363 2014-06-20 17:18:47    2014-06-20  \n",
       "9364 2014-06-17 16:22:09    2014-06-17  "
      ]
     },
     "execution_count": 12,
     "metadata": {},
     "output_type": "execute_result"
    }
   ],
   "source": [
    "issue_contrib.head()"
   ]
  },
  {
   "cell_type": "markdown",
   "metadata": {},
   "source": [
    "### Retrieve PR Contributors\n",
    "\n",
    "We will now fetch all the PR contributors for various repositories."
   ]
  },
  {
   "cell_type": "code",
   "execution_count": 13,
   "metadata": {},
   "outputs": [
    {
     "name": "stderr",
     "output_type": "stream",
     "text": [
      "/opt/app-root/lib64/python3.8/site-packages/pandas/core/ops/array_ops.py:73: FutureWarning: Comparison of Timestamp with datetime.date is deprecated in order to match the standard library behavior.  In a future version these will be considered non-comparable.Use 'ts == pd.Timestamp(date)' or 'ts.date() == date' instead.\n",
      "  result = libops.scalar_compare(x.ravel(), y, op)\n"
     ]
    }
   ],
   "source": [
    "if READ_LOCALLY:\n",
    "\n",
    "    pr_contrib = pd.read_pickle(\"ep_data/pr_contrib.pkl\")\n",
    "\n",
    "else:\n",
    "\n",
    "    pr_contrib = get_pr_contributors(repo_set, engine)\n",
    "    pr_contrib['created_at_dt'] = pr_contrib['pr_created_at'].dt.date\n",
    "    date_range = (pr_contrib['created_at_dt'] > pd.to_datetime('2011-01-01')) & (pr_contrib['created_at_dt'] <= pd.to_datetime('2014-06-30'))\n",
    "    pr_contrib = pr_contrib.loc[date_range]\n",
    "    pr_contrib.to_pickle(\"ep_data/pr_contrib.pkl\")"
   ]
  },
  {
   "cell_type": "code",
   "execution_count": 14,
   "metadata": {},
   "outputs": [
    {
     "data": {
      "text/html": [
       "<div>\n",
       "<style scoped>\n",
       "    .dataframe tbody tr th:only-of-type {\n",
       "        vertical-align: middle;\n",
       "    }\n",
       "\n",
       "    .dataframe tbody tr th {\n",
       "        vertical-align: top;\n",
       "    }\n",
       "\n",
       "    .dataframe thead th {\n",
       "        text-align: right;\n",
       "    }\n",
       "</style>\n",
       "<table border=\"1\" class=\"dataframe\">\n",
       "  <thead>\n",
       "    <tr style=\"text-align: right;\">\n",
       "      <th></th>\n",
       "      <th>repo_id</th>\n",
       "      <th>repo_git</th>\n",
       "      <th>repo_name</th>\n",
       "      <th>cntrb_id</th>\n",
       "      <th>pull_request_id</th>\n",
       "      <th>pr_created_at</th>\n",
       "      <th>created_at_dt</th>\n",
       "    </tr>\n",
       "  </thead>\n",
       "  <tbody>\n",
       "    <tr>\n",
       "      <th>44112</th>\n",
       "      <td>61001</td>\n",
       "      <td>https://github.com/etcd-io/etcd</td>\n",
       "      <td>etcd</td>\n",
       "      <td>01028074-3800-0000-0000-000000000000</td>\n",
       "      <td>35958356</td>\n",
       "      <td>2013-10-15 17:45:31</td>\n",
       "      <td>2013-10-15</td>\n",
       "    </tr>\n",
       "    <tr>\n",
       "      <th>44129</th>\n",
       "      <td>61001</td>\n",
       "      <td>https://github.com/etcd-io/etcd</td>\n",
       "      <td>etcd</td>\n",
       "      <td>01028074-3800-0000-0000-000000000000</td>\n",
       "      <td>35958213</td>\n",
       "      <td>2014-01-07 05:51:21</td>\n",
       "      <td>2014-01-07</td>\n",
       "    </tr>\n",
       "    <tr>\n",
       "      <th>44841</th>\n",
       "      <td>61001</td>\n",
       "      <td>https://github.com/etcd-io/etcd</td>\n",
       "      <td>etcd</td>\n",
       "      <td>01000c14-da00-0000-0000-000000000000</td>\n",
       "      <td>35958112</td>\n",
       "      <td>2014-03-04 12:34:00</td>\n",
       "      <td>2014-03-04</td>\n",
       "    </tr>\n",
       "    <tr>\n",
       "      <th>44842</th>\n",
       "      <td>61001</td>\n",
       "      <td>https://github.com/etcd-io/etcd</td>\n",
       "      <td>etcd</td>\n",
       "      <td>01000011-b600-0000-0000-000000000000</td>\n",
       "      <td>35958169</td>\n",
       "      <td>2014-01-23 02:00:11</td>\n",
       "      <td>2014-01-23</td>\n",
       "    </tr>\n",
       "    <tr>\n",
       "      <th>44843</th>\n",
       "      <td>61001</td>\n",
       "      <td>https://github.com/etcd-io/etcd</td>\n",
       "      <td>etcd</td>\n",
       "      <td>01028074-3800-0000-0000-000000000000</td>\n",
       "      <td>35958112</td>\n",
       "      <td>2014-03-04 12:34:00</td>\n",
       "      <td>2014-03-04</td>\n",
       "    </tr>\n",
       "  </tbody>\n",
       "</table>\n",
       "</div>"
      ],
      "text/plain": [
       "      repo_id                         repo_git repo_name  \\\n",
       "44112   61001  https://github.com/etcd-io/etcd      etcd   \n",
       "44129   61001  https://github.com/etcd-io/etcd      etcd   \n",
       "44841   61001  https://github.com/etcd-io/etcd      etcd   \n",
       "44842   61001  https://github.com/etcd-io/etcd      etcd   \n",
       "44843   61001  https://github.com/etcd-io/etcd      etcd   \n",
       "\n",
       "                                   cntrb_id pull_request_id  \\\n",
       "44112  01028074-3800-0000-0000-000000000000        35958356   \n",
       "44129  01028074-3800-0000-0000-000000000000        35958213   \n",
       "44841  01000c14-da00-0000-0000-000000000000        35958112   \n",
       "44842  01000011-b600-0000-0000-000000000000        35958169   \n",
       "44843  01028074-3800-0000-0000-000000000000        35958112   \n",
       "\n",
       "            pr_created_at created_at_dt  \n",
       "44112 2013-10-15 17:45:31    2013-10-15  \n",
       "44129 2014-01-07 05:51:21    2014-01-07  \n",
       "44841 2014-03-04 12:34:00    2014-03-04  \n",
       "44842 2014-01-23 02:00:11    2014-01-23  \n",
       "44843 2014-03-04 12:34:00    2014-03-04  "
      ]
     },
     "execution_count": 14,
     "metadata": {},
     "output_type": "execute_result"
    }
   ],
   "source": [
    "pr_contrib.head()"
   ]
  },
  {
   "cell_type": "markdown",
   "metadata": {},
   "source": [
    "### Retrieve Commit Contributors\n",
    "\n",
    "We will now fetch all the Commit contributors for various repositories."
   ]
  },
  {
   "cell_type": "code",
   "execution_count": 15,
   "metadata": {},
   "outputs": [
    {
     "name": "stderr",
     "output_type": "stream",
     "text": [
      "/opt/app-root/lib64/python3.8/site-packages/pandas/core/ops/array_ops.py:73: FutureWarning: Comparison of Timestamp with datetime.date is deprecated in order to match the standard library behavior.  In a future version these will be considered non-comparable.Use 'ts == pd.Timestamp(date)' or 'ts.date() == date' instead.\n",
      "  result = libops.scalar_compare(x.ravel(), y, op)\n"
     ]
    }
   ],
   "source": [
    "if READ_LOCALLY:\n",
    "    \n",
    "    commit_contrib = pd.read_pickle(\"ep_data/commit_contrib.pkl\")\n",
    "\n",
    "else:\n",
    "    \n",
    "    commit_contrib = get_commit_contributors(repo_set, engine)\n",
    "    commit_contrib['cmt_date_attempted_dt'] = commit_contrib['cmt_date_attempted'].dt.date\n",
    "    date_range = (commit_contrib['cmt_date_attempted_dt'] > pd.to_datetime('2011-01-01')) & (commit_contrib['cmt_date_attempted_dt'] <= pd.to_datetime('2014-06-30'))\n",
    "    commit_contrib = commit_contrib.loc[date_range]\n",
    "    commit_contrib.to_pickle(\"ep_data/commit_contrib.pkl\")  "
   ]
  },
  {
   "cell_type": "code",
   "execution_count": 16,
   "metadata": {},
   "outputs": [
    {
     "data": {
      "text/html": [
       "<div>\n",
       "<style scoped>\n",
       "    .dataframe tbody tr th:only-of-type {\n",
       "        vertical-align: middle;\n",
       "    }\n",
       "\n",
       "    .dataframe tbody tr th {\n",
       "        vertical-align: top;\n",
       "    }\n",
       "\n",
       "    .dataframe thead th {\n",
       "        text-align: right;\n",
       "    }\n",
       "</style>\n",
       "<table border=\"1\" class=\"dataframe\">\n",
       "  <thead>\n",
       "    <tr style=\"text-align: right;\">\n",
       "      <th></th>\n",
       "      <th>repo_id</th>\n",
       "      <th>repo_git</th>\n",
       "      <th>repo_name</th>\n",
       "      <th>cntrb_id</th>\n",
       "      <th>cmt_id</th>\n",
       "      <th>cmt_date_attempted</th>\n",
       "      <th>cmt_date_attempted_dt</th>\n",
       "    </tr>\n",
       "  </thead>\n",
       "  <tbody>\n",
       "    <tr>\n",
       "      <th>175941</th>\n",
       "      <td>61001</td>\n",
       "      <td>https://github.com/etcd-io/etcd</td>\n",
       "      <td>etcd</td>\n",
       "      <td>01000480-a600-0000-0000-000000000000</td>\n",
       "      <td>181818776</td>\n",
       "      <td>2013-09-25</td>\n",
       "      <td>2013-09-25</td>\n",
       "    </tr>\n",
       "    <tr>\n",
       "      <th>175942</th>\n",
       "      <td>61001</td>\n",
       "      <td>https://github.com/etcd-io/etcd</td>\n",
       "      <td>etcd</td>\n",
       "      <td>01000480-a600-0000-0000-000000000000</td>\n",
       "      <td>181818780</td>\n",
       "      <td>2013-09-25</td>\n",
       "      <td>2013-09-25</td>\n",
       "    </tr>\n",
       "    <tr>\n",
       "      <th>175943</th>\n",
       "      <td>61001</td>\n",
       "      <td>https://github.com/etcd-io/etcd</td>\n",
       "      <td>etcd</td>\n",
       "      <td>01000480-a600-0000-0000-000000000000</td>\n",
       "      <td>181818798</td>\n",
       "      <td>2013-09-25</td>\n",
       "      <td>2013-09-25</td>\n",
       "    </tr>\n",
       "    <tr>\n",
       "      <th>175949</th>\n",
       "      <td>61001</td>\n",
       "      <td>https://github.com/etcd-io/etcd</td>\n",
       "      <td>etcd</td>\n",
       "      <td>01000b87-5400-0000-0000-000000000000</td>\n",
       "      <td>181823777</td>\n",
       "      <td>2013-10-10</td>\n",
       "      <td>2013-10-10</td>\n",
       "    </tr>\n",
       "    <tr>\n",
       "      <th>175950</th>\n",
       "      <td>61001</td>\n",
       "      <td>https://github.com/etcd-io/etcd</td>\n",
       "      <td>etcd</td>\n",
       "      <td>01000b87-5400-0000-0000-000000000000</td>\n",
       "      <td>181786726</td>\n",
       "      <td>2013-10-15</td>\n",
       "      <td>2013-10-15</td>\n",
       "    </tr>\n",
       "  </tbody>\n",
       "</table>\n",
       "</div>"
      ],
      "text/plain": [
       "       repo_id                         repo_git repo_name  \\\n",
       "175941   61001  https://github.com/etcd-io/etcd      etcd   \n",
       "175942   61001  https://github.com/etcd-io/etcd      etcd   \n",
       "175943   61001  https://github.com/etcd-io/etcd      etcd   \n",
       "175949   61001  https://github.com/etcd-io/etcd      etcd   \n",
       "175950   61001  https://github.com/etcd-io/etcd      etcd   \n",
       "\n",
       "                                    cntrb_id     cmt_id cmt_date_attempted  \\\n",
       "175941  01000480-a600-0000-0000-000000000000  181818776         2013-09-25   \n",
       "175942  01000480-a600-0000-0000-000000000000  181818780         2013-09-25   \n",
       "175943  01000480-a600-0000-0000-000000000000  181818798         2013-09-25   \n",
       "175949  01000b87-5400-0000-0000-000000000000  181823777         2013-10-10   \n",
       "175950  01000b87-5400-0000-0000-000000000000  181786726         2013-10-15   \n",
       "\n",
       "       cmt_date_attempted_dt  \n",
       "175941            2013-09-25  \n",
       "175942            2013-09-25  \n",
       "175943            2013-09-25  \n",
       "175949            2013-10-10  \n",
       "175950            2013-10-15  "
      ]
     },
     "execution_count": 16,
     "metadata": {},
     "output_type": "execute_result"
    }
   ],
   "source": [
    "commit_contrib.head()"
   ]
  },
  {
   "cell_type": "markdown",
   "metadata": {},
   "source": [
    "### Retrieve PR Reviewers \n",
    "\n",
    "We will now fetch all the PR Reviewers for various repositories."
   ]
  },
  {
   "cell_type": "code",
   "execution_count": 17,
   "metadata": {},
   "outputs": [],
   "source": [
    "if READ_LOCALLY:\n",
    "\n",
    "    prr_contrib = pd.read_pickle(\"ep_data/prr_contrib.pkl\")\n",
    "\n",
    "else:\n",
    "\n",
    "    prr_contrib = get_prr_contributors(repo_set, engine)\n",
    "    prr_contrib.to_pickle(\"ep_data/prr_contrib.pkl\")  "
   ]
  },
  {
   "cell_type": "code",
   "execution_count": 18,
   "metadata": {},
   "outputs": [
    {
     "data": {
      "text/html": [
       "<div>\n",
       "<style scoped>\n",
       "    .dataframe tbody tr th:only-of-type {\n",
       "        vertical-align: middle;\n",
       "    }\n",
       "\n",
       "    .dataframe tbody tr th {\n",
       "        vertical-align: top;\n",
       "    }\n",
       "\n",
       "    .dataframe thead th {\n",
       "        text-align: right;\n",
       "    }\n",
       "</style>\n",
       "<table border=\"1\" class=\"dataframe\">\n",
       "  <thead>\n",
       "    <tr style=\"text-align: right;\">\n",
       "      <th></th>\n",
       "      <th>repo_id</th>\n",
       "      <th>repo_git</th>\n",
       "      <th>repo_name</th>\n",
       "      <th>cntrb_id</th>\n",
       "      <th>pull_request_id</th>\n",
       "    </tr>\n",
       "  </thead>\n",
       "  <tbody>\n",
       "    <tr>\n",
       "      <th>0</th>\n",
       "      <td>61180</td>\n",
       "      <td>https://github.com/thanos-io/thanos</td>\n",
       "      <td>thanos</td>\n",
       "      <td>010013a0-5700-0000-0000-000000000000</td>\n",
       "      <td>36365615</td>\n",
       "    </tr>\n",
       "    <tr>\n",
       "      <th>1</th>\n",
       "      <td>61180</td>\n",
       "      <td>https://github.com/thanos-io/thanos</td>\n",
       "      <td>thanos</td>\n",
       "      <td>01017fc2-ac00-0000-0000-000000000000</td>\n",
       "      <td>51309951</td>\n",
       "    </tr>\n",
       "    <tr>\n",
       "      <th>2</th>\n",
       "      <td>61180</td>\n",
       "      <td>https://github.com/thanos-io/thanos</td>\n",
       "      <td>thanos</td>\n",
       "      <td>01004560-a200-0000-0000-000000000000</td>\n",
       "      <td>36365831</td>\n",
       "    </tr>\n",
       "    <tr>\n",
       "      <th>3</th>\n",
       "      <td>61180</td>\n",
       "      <td>https://github.com/thanos-io/thanos</td>\n",
       "      <td>thanos</td>\n",
       "      <td>01002446-1100-0000-0000-000000000000</td>\n",
       "      <td>36365849</td>\n",
       "    </tr>\n",
       "    <tr>\n",
       "      <th>4</th>\n",
       "      <td>61180</td>\n",
       "      <td>https://github.com/thanos-io/thanos</td>\n",
       "      <td>thanos</td>\n",
       "      <td>010019f8-1000-0000-0000-000000000000</td>\n",
       "      <td>36365922</td>\n",
       "    </tr>\n",
       "  </tbody>\n",
       "</table>\n",
       "</div>"
      ],
      "text/plain": [
       "  repo_id                             repo_git repo_name  \\\n",
       "0   61180  https://github.com/thanos-io/thanos    thanos   \n",
       "1   61180  https://github.com/thanos-io/thanos    thanos   \n",
       "2   61180  https://github.com/thanos-io/thanos    thanos   \n",
       "3   61180  https://github.com/thanos-io/thanos    thanos   \n",
       "4   61180  https://github.com/thanos-io/thanos    thanos   \n",
       "\n",
       "                               cntrb_id pull_request_id  \n",
       "0  010013a0-5700-0000-0000-000000000000        36365615  \n",
       "1  01017fc2-ac00-0000-0000-000000000000        51309951  \n",
       "2  01004560-a200-0000-0000-000000000000        36365831  \n",
       "3  01002446-1100-0000-0000-000000000000        36365849  \n",
       "4  010019f8-1000-0000-0000-000000000000        36365922  "
      ]
     },
     "execution_count": 18,
     "metadata": {},
     "output_type": "execute_result"
    }
   ],
   "source": [
    "prr_contrib.head()"
   ]
  },
  {
   "cell_type": "markdown",
   "metadata": {},
   "source": [
    "## Graph Type 1: Projects and Contributors as Nodes"
   ]
  },
  {
   "cell_type": "markdown",
   "metadata": {},
   "source": [
    "In this section, we plot projects and contributors on the same graph as nodes and color them differently to see the relationships between them."
   ]
  },
  {
   "cell_type": "markdown",
   "metadata": {},
   "source": [
    "### Commit Contributors"
   ]
  },
  {
   "cell_type": "code",
   "execution_count": 19,
   "metadata": {},
   "outputs": [
    {
     "data": {
      "text/html": [
       "<div>\n",
       "<style scoped>\n",
       "    .dataframe tbody tr th:only-of-type {\n",
       "        vertical-align: middle;\n",
       "    }\n",
       "\n",
       "    .dataframe tbody tr th {\n",
       "        vertical-align: top;\n",
       "    }\n",
       "\n",
       "    .dataframe thead th {\n",
       "        text-align: right;\n",
       "    }\n",
       "</style>\n",
       "<table border=\"1\" class=\"dataframe\">\n",
       "  <thead>\n",
       "    <tr style=\"text-align: right;\">\n",
       "      <th>cntrb_id</th>\n",
       "      <th>01000000-1500-0000-0000-000000000000</th>\n",
       "      <th>01000000-2e00-0000-0000-000000000000</th>\n",
       "      <th>01000000-6c00-0000-0000-000000000000</th>\n",
       "      <th>01000002-7e00-0000-0000-000000000000</th>\n",
       "      <th>01000008-5100-0000-0000-000000000000</th>\n",
       "      <th>0100000a-a000-0000-0000-000000000000</th>\n",
       "      <th>0100000b-3e00-0000-0000-000000000000</th>\n",
       "      <th>0100000d-8200-0000-0000-000000000000</th>\n",
       "      <th>0100000d-ac00-0000-0000-000000000000</th>\n",
       "      <th>0100000d-ce00-0000-0000-000000000000</th>\n",
       "      <th>...</th>\n",
       "      <th>01005560-5400-0000-0000-000000000000</th>\n",
       "      <th>010057c3-8200-0000-0000-000000000000</th>\n",
       "      <th>01005dd2-f200-0000-0000-000000000000</th>\n",
       "      <th>01005e94-1900-0000-0000-000000000000</th>\n",
       "      <th>01006c1d-1f00-0000-0000-000000000000</th>\n",
       "      <th>0100747e-cd00-0000-0000-000000000000</th>\n",
       "      <th>010075e2-d100-0000-0000-000000000000</th>\n",
       "      <th>0100761d-e100-0000-0000-000000000000</th>\n",
       "      <th>01007822-3800-0000-0000-000000000000</th>\n",
       "      <th>0100786d-3c00-0000-0000-000000000000</th>\n",
       "    </tr>\n",
       "    <tr>\n",
       "      <th>repo_name</th>\n",
       "      <th></th>\n",
       "      <th></th>\n",
       "      <th></th>\n",
       "      <th></th>\n",
       "      <th></th>\n",
       "      <th></th>\n",
       "      <th></th>\n",
       "      <th></th>\n",
       "      <th></th>\n",
       "      <th></th>\n",
       "      <th></th>\n",
       "      <th></th>\n",
       "      <th></th>\n",
       "      <th></th>\n",
       "      <th></th>\n",
       "      <th></th>\n",
       "      <th></th>\n",
       "      <th></th>\n",
       "      <th></th>\n",
       "      <th></th>\n",
       "      <th></th>\n",
       "    </tr>\n",
       "  </thead>\n",
       "  <tbody>\n",
       "    <tr>\n",
       "      <th>etcd</th>\n",
       "      <td>22</td>\n",
       "      <td>9</td>\n",
       "      <td>1</td>\n",
       "      <td>2</td>\n",
       "      <td>1</td>\n",
       "      <td>0</td>\n",
       "      <td>0</td>\n",
       "      <td>0</td>\n",
       "      <td>0</td>\n",
       "      <td>12</td>\n",
       "      <td>...</td>\n",
       "      <td>0</td>\n",
       "      <td>0</td>\n",
       "      <td>1</td>\n",
       "      <td>0</td>\n",
       "      <td>0</td>\n",
       "      <td>0</td>\n",
       "      <td>0</td>\n",
       "      <td>0</td>\n",
       "      <td>0</td>\n",
       "      <td>1</td>\n",
       "    </tr>\n",
       "    <tr>\n",
       "      <th>fluentd</th>\n",
       "      <td>0</td>\n",
       "      <td>0</td>\n",
       "      <td>0</td>\n",
       "      <td>0</td>\n",
       "      <td>0</td>\n",
       "      <td>1</td>\n",
       "      <td>1</td>\n",
       "      <td>24</td>\n",
       "      <td>17</td>\n",
       "      <td>0</td>\n",
       "      <td>...</td>\n",
       "      <td>0</td>\n",
       "      <td>0</td>\n",
       "      <td>0</td>\n",
       "      <td>1</td>\n",
       "      <td>3</td>\n",
       "      <td>0</td>\n",
       "      <td>0</td>\n",
       "      <td>0</td>\n",
       "      <td>0</td>\n",
       "      <td>0</td>\n",
       "    </tr>\n",
       "    <tr>\n",
       "      <th>kubernetes</th>\n",
       "      <td>0</td>\n",
       "      <td>0</td>\n",
       "      <td>0</td>\n",
       "      <td>0</td>\n",
       "      <td>0</td>\n",
       "      <td>0</td>\n",
       "      <td>0</td>\n",
       "      <td>0</td>\n",
       "      <td>0</td>\n",
       "      <td>0</td>\n",
       "      <td>...</td>\n",
       "      <td>71</td>\n",
       "      <td>1353</td>\n",
       "      <td>0</td>\n",
       "      <td>0</td>\n",
       "      <td>0</td>\n",
       "      <td>9</td>\n",
       "      <td>9</td>\n",
       "      <td>2</td>\n",
       "      <td>1</td>\n",
       "      <td>0</td>\n",
       "    </tr>\n",
       "  </tbody>\n",
       "</table>\n",
       "<p>3 rows × 171 columns</p>\n",
       "</div>"
      ],
      "text/plain": [
       "cntrb_id    01000000-1500-0000-0000-000000000000  \\\n",
       "repo_name                                          \n",
       "etcd                                          22   \n",
       "fluentd                                        0   \n",
       "kubernetes                                     0   \n",
       "\n",
       "cntrb_id    01000000-2e00-0000-0000-000000000000  \\\n",
       "repo_name                                          \n",
       "etcd                                           9   \n",
       "fluentd                                        0   \n",
       "kubernetes                                     0   \n",
       "\n",
       "cntrb_id    01000000-6c00-0000-0000-000000000000  \\\n",
       "repo_name                                          \n",
       "etcd                                           1   \n",
       "fluentd                                        0   \n",
       "kubernetes                                     0   \n",
       "\n",
       "cntrb_id    01000002-7e00-0000-0000-000000000000  \\\n",
       "repo_name                                          \n",
       "etcd                                           2   \n",
       "fluentd                                        0   \n",
       "kubernetes                                     0   \n",
       "\n",
       "cntrb_id    01000008-5100-0000-0000-000000000000  \\\n",
       "repo_name                                          \n",
       "etcd                                           1   \n",
       "fluentd                                        0   \n",
       "kubernetes                                     0   \n",
       "\n",
       "cntrb_id    0100000a-a000-0000-0000-000000000000  \\\n",
       "repo_name                                          \n",
       "etcd                                           0   \n",
       "fluentd                                        1   \n",
       "kubernetes                                     0   \n",
       "\n",
       "cntrb_id    0100000b-3e00-0000-0000-000000000000  \\\n",
       "repo_name                                          \n",
       "etcd                                           0   \n",
       "fluentd                                        1   \n",
       "kubernetes                                     0   \n",
       "\n",
       "cntrb_id    0100000d-8200-0000-0000-000000000000  \\\n",
       "repo_name                                          \n",
       "etcd                                           0   \n",
       "fluentd                                       24   \n",
       "kubernetes                                     0   \n",
       "\n",
       "cntrb_id    0100000d-ac00-0000-0000-000000000000  \\\n",
       "repo_name                                          \n",
       "etcd                                           0   \n",
       "fluentd                                       17   \n",
       "kubernetes                                     0   \n",
       "\n",
       "cntrb_id    0100000d-ce00-0000-0000-000000000000  ...  \\\n",
       "repo_name                                         ...   \n",
       "etcd                                          12  ...   \n",
       "fluentd                                        0  ...   \n",
       "kubernetes                                     0  ...   \n",
       "\n",
       "cntrb_id    01005560-5400-0000-0000-000000000000  \\\n",
       "repo_name                                          \n",
       "etcd                                           0   \n",
       "fluentd                                        0   \n",
       "kubernetes                                    71   \n",
       "\n",
       "cntrb_id    010057c3-8200-0000-0000-000000000000  \\\n",
       "repo_name                                          \n",
       "etcd                                           0   \n",
       "fluentd                                        0   \n",
       "kubernetes                                  1353   \n",
       "\n",
       "cntrb_id    01005dd2-f200-0000-0000-000000000000  \\\n",
       "repo_name                                          \n",
       "etcd                                           1   \n",
       "fluentd                                        0   \n",
       "kubernetes                                     0   \n",
       "\n",
       "cntrb_id    01005e94-1900-0000-0000-000000000000  \\\n",
       "repo_name                                          \n",
       "etcd                                           0   \n",
       "fluentd                                        1   \n",
       "kubernetes                                     0   \n",
       "\n",
       "cntrb_id    01006c1d-1f00-0000-0000-000000000000  \\\n",
       "repo_name                                          \n",
       "etcd                                           0   \n",
       "fluentd                                        3   \n",
       "kubernetes                                     0   \n",
       "\n",
       "cntrb_id    0100747e-cd00-0000-0000-000000000000  \\\n",
       "repo_name                                          \n",
       "etcd                                           0   \n",
       "fluentd                                        0   \n",
       "kubernetes                                     9   \n",
       "\n",
       "cntrb_id    010075e2-d100-0000-0000-000000000000  \\\n",
       "repo_name                                          \n",
       "etcd                                           0   \n",
       "fluentd                                        0   \n",
       "kubernetes                                     9   \n",
       "\n",
       "cntrb_id    0100761d-e100-0000-0000-000000000000  \\\n",
       "repo_name                                          \n",
       "etcd                                           0   \n",
       "fluentd                                        0   \n",
       "kubernetes                                     2   \n",
       "\n",
       "cntrb_id    01007822-3800-0000-0000-000000000000  \\\n",
       "repo_name                                          \n",
       "etcd                                           0   \n",
       "fluentd                                        0   \n",
       "kubernetes                                     1   \n",
       "\n",
       "cntrb_id    0100786d-3c00-0000-0000-000000000000  \n",
       "repo_name                                         \n",
       "etcd                                           1  \n",
       "fluentd                                        0  \n",
       "kubernetes                                     0  \n",
       "\n",
       "[3 rows x 171 columns]"
      ]
     },
     "execution_count": 19,
     "metadata": {},
     "output_type": "execute_result"
    }
   ],
   "source": [
    "df_commit = commit_contrib.groupby(['repo_name', 'cntrb_id']).size().unstack(fill_value=0)\n",
    "df_commit.head()"
   ]
  },
  {
   "cell_type": "markdown",
   "metadata": {},
   "source": [
    "In the above dataframe, each row represents a repository ID and each column represents a contributor. The dataframe contains counts for the number of times a contributor has made contributions to a particular repository. In the dataframe below `df_commit`, each contribution represents a commit. A value 0 means that a particular contributor has made no commits to the repository, and a a number x means that the contributor has made x number of commits to the repository."
   ]
  },
  {
   "cell_type": "code",
   "execution_count": 20,
   "metadata": {},
   "outputs": [
    {
     "data": {
      "text/html": [
       "<div>\n",
       "<style scoped>\n",
       "    .dataframe tbody tr th:only-of-type {\n",
       "        vertical-align: middle;\n",
       "    }\n",
       "\n",
       "    .dataframe tbody tr th {\n",
       "        vertical-align: top;\n",
       "    }\n",
       "\n",
       "    .dataframe thead th {\n",
       "        text-align: right;\n",
       "    }\n",
       "</style>\n",
       "<table border=\"1\" class=\"dataframe\">\n",
       "  <thead>\n",
       "    <tr style=\"text-align: right;\">\n",
       "      <th></th>\n",
       "      <th>repo_name</th>\n",
       "      <th>cntrb_id</th>\n",
       "      <th>number</th>\n",
       "    </tr>\n",
       "  </thead>\n",
       "  <tbody>\n",
       "    <tr>\n",
       "      <th>0</th>\n",
       "      <td>etcd</td>\n",
       "      <td>01000000-1500-0000-0000-000000000000</td>\n",
       "      <td>22</td>\n",
       "    </tr>\n",
       "    <tr>\n",
       "      <th>3</th>\n",
       "      <td>etcd</td>\n",
       "      <td>01000000-2e00-0000-0000-000000000000</td>\n",
       "      <td>9</td>\n",
       "    </tr>\n",
       "    <tr>\n",
       "      <th>6</th>\n",
       "      <td>etcd</td>\n",
       "      <td>01000000-6c00-0000-0000-000000000000</td>\n",
       "      <td>1</td>\n",
       "    </tr>\n",
       "    <tr>\n",
       "      <th>9</th>\n",
       "      <td>etcd</td>\n",
       "      <td>01000002-7e00-0000-0000-000000000000</td>\n",
       "      <td>2</td>\n",
       "    </tr>\n",
       "    <tr>\n",
       "      <th>12</th>\n",
       "      <td>etcd</td>\n",
       "      <td>01000008-5100-0000-0000-000000000000</td>\n",
       "      <td>1</td>\n",
       "    </tr>\n",
       "  </tbody>\n",
       "</table>\n",
       "</div>"
      ],
      "text/plain": [
       "   repo_name                              cntrb_id  number\n",
       "0       etcd  01000000-1500-0000-0000-000000000000      22\n",
       "3       etcd  01000000-2e00-0000-0000-000000000000       9\n",
       "6       etcd  01000000-6c00-0000-0000-000000000000       1\n",
       "9       etcd  01000002-7e00-0000-0000-000000000000       2\n",
       "12      etcd  01000008-5100-0000-0000-000000000000       1"
      ]
     },
     "execution_count": 20,
     "metadata": {},
     "output_type": "execute_result"
    }
   ],
   "source": [
    "df_commit = df_commit.reset_index()\n",
    "df_melted_commit = df_commit.melt(\n",
    "    ['repo_name'],\n",
    "    var_name = 'cntrb_id',value_name='number')\n",
    "df_melted_commit = df_melted_commit[df_melted_commit[df_melted_commit.columns[2]] != 0]\n",
    "df_melted_commit.head()"
   ]
  },
  {
   "cell_type": "markdown",
   "metadata": {},
   "source": [
    "In `df_melted_commit` we transpose the contributor IDs. Each row is a combination of a unique repository and a unique contributor and the number represents the number of times the contributor has made contributors to the particular repository."
   ]
  },
  {
   "cell_type": "markdown",
   "metadata": {},
   "source": [
    "#### Create melted dataframes for all contribution type dataframes"
   ]
  },
  {
   "cell_type": "code",
   "execution_count": 21,
   "metadata": {},
   "outputs": [],
   "source": [
    "df_melted_pr_contrib = created_melted_dfs(pr_contrib)\n",
    "df_melted_issue_contrib = created_melted_dfs(issue_contrib)\n",
    "df_melted_prr_contrib = created_melted_dfs(prr_contrib)"
   ]
  },
  {
   "cell_type": "markdown",
   "metadata": {},
   "source": [
    "### Join repositories of all contribution types\n",
    "\n",
    "Combine dataframes of Issue contributors, PR contributors, PR Reviewers, and Commit Contributors to get aggregated contributor dataframes for each repository"
   ]
  },
  {
   "cell_type": "code",
   "execution_count": 22,
   "metadata": {},
   "outputs": [],
   "source": [
    "commit_issue = pd.concat([df_melted_commit, df_melted_issue_contrib]).groupby([\"repo_name\", \"cntrb_id\"]).sum().reset_index()\n",
    "comm_issue_pr_df = pd.concat([df_melted_pr_contrib, commit_issue]).groupby([\"repo_name\", \"cntrb_id\"]).sum().reset_index()\n",
    "merged_df = pd.concat([comm_issue_pr_df, df_melted_prr_contrib]).groupby([\"repo_name\", \"cntrb_id\"]).sum().reset_index()\n",
    "merged_df.rename(columns = {'number':'total_contributions'}, inplace = True)"
   ]
  },
  {
   "cell_type": "code",
   "execution_count": 23,
   "metadata": {},
   "outputs": [
    {
     "data": {
      "text/html": [
       "<div>\n",
       "<style scoped>\n",
       "    .dataframe tbody tr th:only-of-type {\n",
       "        vertical-align: middle;\n",
       "    }\n",
       "\n",
       "    .dataframe tbody tr th {\n",
       "        vertical-align: top;\n",
       "    }\n",
       "\n",
       "    .dataframe thead th {\n",
       "        text-align: right;\n",
       "    }\n",
       "</style>\n",
       "<table border=\"1\" class=\"dataframe\">\n",
       "  <thead>\n",
       "    <tr style=\"text-align: right;\">\n",
       "      <th></th>\n",
       "      <th>repo_name</th>\n",
       "      <th>cntrb_id</th>\n",
       "      <th>total_contributions</th>\n",
       "    </tr>\n",
       "  </thead>\n",
       "  <tbody>\n",
       "    <tr>\n",
       "      <th>0</th>\n",
       "      <td>argo-cd</td>\n",
       "      <td>010000af-bd00-0000-0000-000000000000</td>\n",
       "      <td>39</td>\n",
       "    </tr>\n",
       "    <tr>\n",
       "      <th>1</th>\n",
       "      <td>argo-cd</td>\n",
       "      <td>01000312-ae00-0000-0000-000000000000</td>\n",
       "      <td>2</td>\n",
       "    </tr>\n",
       "    <tr>\n",
       "      <th>2</th>\n",
       "      <td>argo-cd</td>\n",
       "      <td>01000549-d000-0000-0000-000000000000</td>\n",
       "      <td>2</td>\n",
       "    </tr>\n",
       "    <tr>\n",
       "      <th>3</th>\n",
       "      <td>argo-cd</td>\n",
       "      <td>01000559-0200-0000-0000-000000000000</td>\n",
       "      <td>95</td>\n",
       "    </tr>\n",
       "    <tr>\n",
       "      <th>4</th>\n",
       "      <td>argo-cd</td>\n",
       "      <td>01000681-c500-0000-0000-000000000000</td>\n",
       "      <td>235</td>\n",
       "    </tr>\n",
       "  </tbody>\n",
       "</table>\n",
       "</div>"
      ],
      "text/plain": [
       "  repo_name                              cntrb_id  total_contributions\n",
       "0   argo-cd  010000af-bd00-0000-0000-000000000000                   39\n",
       "1   argo-cd  01000312-ae00-0000-0000-000000000000                    2\n",
       "2   argo-cd  01000549-d000-0000-0000-000000000000                    2\n",
       "3   argo-cd  01000559-0200-0000-0000-000000000000                   95\n",
       "4   argo-cd  01000681-c500-0000-0000-000000000000                  235"
      ]
     },
     "execution_count": 23,
     "metadata": {},
     "output_type": "execute_result"
    }
   ],
   "source": [
    "merged_df.head()"
   ]
  },
  {
   "cell_type": "markdown",
   "metadata": {},
   "source": [
    "### Plot Graphs"
   ]
  },
  {
   "cell_type": "markdown",
   "metadata": {},
   "source": [
    "### Use PageRank and Betweenness Centrality to Subset Nodes\n",
    "\n",
    "We can now try to run the `PageRank` algorithm to compute the ranking of the nodes in the graph based on the structure of the incoming links. \n",
    "\n",
    "We will also look into the betweenness centrality in the graph to compute the shortest-path betweenness centrality for nodes. It measures how often a node occurs on all shortest paths between two nodes. Here we are trying to analyze which are the common repositories that occur on all paths in the graph. "
   ]
  },
  {
   "cell_type": "markdown",
   "metadata": {},
   "source": [
    "### Page Rank"
   ]
  },
  {
   "cell_type": "markdown",
   "metadata": {},
   "source": [
    "PageRank ranks important nodes by analyzing the quantity and quality of the links that point to it. In our case, links that point to repositories come from contributors. "
   ]
  },
  {
   "cell_type": "code",
   "execution_count": 24,
   "metadata": {},
   "outputs": [],
   "source": [
    "repo_scores = pd.DataFrame(\n",
    "    {'repo': repo_name_set_graduated+repo_name_set_incubating+repo_name_set_sandbox\n",
    "    })"
   ]
  },
  {
   "cell_type": "code",
   "execution_count": 25,
   "metadata": {},
   "outputs": [],
   "source": [
    "#  A unidirected graph from contributors to repositories will not be able to assign importances to well connected contributors. \n",
    "#  Hence we will create a bidirected graph where for each connection between a contributor and a repository, there is a 2 way arrow.\n",
    "bidirect_df = merged_df.append(merged_df.rename(columns={\"repo_name\":\"cntrb_id\", \"cntrb_id\":\"repo_name\"}))"
   ]
  },
  {
   "cell_type": "code",
   "execution_count": 26,
   "metadata": {},
   "outputs": [],
   "source": [
    "# Creating a directed graph to run page rank\n",
    "H = nx.from_pandas_edgelist(bidirect_df,\n",
    "                            source='cntrb_id',\n",
    "                            target='repo_name',\n",
    "                            edge_attr='total_contributions',\n",
    "                            create_using=nx.DiGraph())"
   ]
  },
  {
   "cell_type": "code",
   "execution_count": 27,
   "metadata": {},
   "outputs": [],
   "source": [
    "top_graduated_pr, top_incubating_pr, top_sandbox_pr, pr, repo_scores = get_page_ranks(H, 100, repo_name_set_graduated, repo_name_set_incubating, repo_name_set_sandbox, repo_scores)"
   ]
  },
  {
   "cell_type": "code",
   "execution_count": 28,
   "metadata": {},
   "outputs": [
    {
     "data": {
      "text/plain": [
       "{'kubernetes': 0.24884142429036976,\n",
       " 'etcd': 0.048595388082830475,\n",
       " 'fluentd': 0.03475839392902133,\n",
       " 'argo-cd': 0.01605047243882126,\n",
       " 'helm': 0.008970757052503147}"
      ]
     },
     "execution_count": 28,
     "metadata": {},
     "output_type": "execute_result"
    }
   ],
   "source": [
    "top_graduated_pr"
   ]
  },
  {
   "cell_type": "code",
   "execution_count": 29,
   "metadata": {},
   "outputs": [
    {
     "data": {
      "text/plain": [
       "{'serving': 0.035269725516953815,\n",
       " 'kubeedge': 0.014583452251058284,\n",
       " 'thanos': 0.01095902218847935,\n",
       " 'keptn-1': 0.00957788053182456}"
      ]
     },
     "execution_count": 29,
     "metadata": {},
     "output_type": "execute_result"
    }
   ],
   "source": [
    "top_incubating_pr"
   ]
  },
  {
   "cell_type": "code",
   "execution_count": 30,
   "metadata": {},
   "outputs": [
    {
     "data": {
      "text/plain": [
       "{'strimzi-kafka-operator': 0.010635131030639686,\n",
       " 'keylime': 0.010434866118166745,\n",
       " 'osm': 0.009512048233204905,\n",
       " 'kubedl': 0.0018247102071804215}"
      ]
     },
     "execution_count": 30,
     "metadata": {},
     "output_type": "execute_result"
    }
   ],
   "source": [
    "top_sandbox_pr"
   ]
  },
  {
   "cell_type": "code",
   "execution_count": 31,
   "metadata": {},
   "outputs": [],
   "source": [
    "topnodes = dict(sorted(pr.items(), key = itemgetter(1), reverse = True)[:50])\n",
    "key = topnodes.keys()\n",
    "subgraph = nx.subgraph(H, key)"
   ]
  },
  {
   "cell_type": "code",
   "execution_count": 32,
   "metadata": {},
   "outputs": [],
   "source": [
    "t = \"Top 50 repos by page rank\""
   ]
  },
  {
   "cell_type": "markdown",
   "metadata": {},
   "source": [
    "We want to give higher priority to outgoing nodes. So we take 50 nodes with lowest pagerank (most number of connections)"
   ]
  },
  {
   "cell_type": "code",
   "execution_count": 33,
   "metadata": {},
   "outputs": [
    {
     "data": {
      "image/png": "[encoded data removed]",
      "text/plain": [
       "<Figure size 1080x1080 with 1 Axes>"
      ]
     },
     "metadata": {},
     "output_type": "display_data"
    }
   ],
   "source": [
    "plot_graph(subgraph, repo_name_set_graduated, repo_name_set_incubating, repo_name_set_sandbox, 'conditional', t, repo_name_set , True, None, 'k')"
   ]
  },
  {
   "cell_type": "markdown",
   "metadata": {},
   "source": [
    "***What do we see in this plot?***\n",
    "\n",
    "\n",
    "\n",
    "Lets look at what are the top 3 nodes\n",
    "\n",
    "The PageRank algorithm measures the importance of nodes by analyzing the quantity and quality of the links that point to it. So if a repository has a lot of contributors and especially if these contributors count as important nodes, they are still ranked high. "
   ]
  },
  {
   "cell_type": "markdown",
   "metadata": {},
   "source": [
    "### Betweenness centrality"
   ]
  },
  {
   "cell_type": "markdown",
   "metadata": {},
   "source": [
    "Betweenness centrality analysis provides information about the node’s importance for an information flow or connectivity of the network. \n",
    "This is a good metric for us, as using this we are able to better capture relative importance of repositories. In our case since we start with examples of well-known repos, we can use this algorithm to find other repos which are important in connection to these well-known repos."
   ]
  },
  {
   "cell_type": "code",
   "execution_count": 34,
   "metadata": {},
   "outputs": [],
   "source": [
    "G = nx.from_pandas_edgelist(merged_df, \n",
    "                            source='repo_name',\n",
    "                            target='cntrb_id',\n",
    "                            edge_attr='total_contributions',\n",
    "                            create_using=nx.Graph())"
   ]
  },
  {
   "cell_type": "code",
   "execution_count": 35,
   "metadata": {},
   "outputs": [],
   "source": [
    "top_graduated_bc, top_incubating_bc, top_sandbox_bc, bc, repo_scores = get_betweenness_centrality(G, 100, repo_name_set_graduated, repo_name_set_incubating, repo_name_set_sandbox, repo_scores)"
   ]
  },
  {
   "cell_type": "code",
   "execution_count": 36,
   "metadata": {},
   "outputs": [
    {
     "data": {
      "text/plain": [
       "{'kubernetes': 0.8734776721189162,\n",
       " 'etcd': 0.17902747620582538,\n",
       " 'fluentd': 0.13640340468338782,\n",
       " 'helm': 0.09358764735521824,\n",
       " 'argo-cd': 0.06325041236151796}"
      ]
     },
     "execution_count": 36,
     "metadata": {},
     "output_type": "execute_result"
    }
   ],
   "source": [
    "top_graduated_bc"
   ]
  },
  {
   "cell_type": "code",
   "execution_count": 37,
   "metadata": {},
   "outputs": [
    {
     "data": {
      "text/plain": [
       "{'serving': 0.13506271319119997,\n",
       " 'kubeedge': 0.05025629036935634,\n",
       " 'thanos': 0.04084820735784019,\n",
       " 'keptn-1': 0.0003837294011105719}"
      ]
     },
     "execution_count": 37,
     "metadata": {},
     "output_type": "execute_result"
    }
   ],
   "source": [
    "top_incubating_bc"
   ]
  },
  {
   "cell_type": "code",
   "execution_count": 38,
   "metadata": {},
   "outputs": [
    {
     "data": {
      "text/plain": [
       "{'keylime': 0.04051474052217897,\n",
       " 'osm': 0.03404921317941044,\n",
       " 'strimzi-kafka-operator': 0.0004793665749258222,\n",
       " 'kubedl': 7.084235097425943e-06}"
      ]
     },
     "execution_count": 38,
     "metadata": {},
     "output_type": "execute_result"
    }
   ],
   "source": [
    "top_sandbox_bc"
   ]
  },
  {
   "cell_type": "code",
   "execution_count": 39,
   "metadata": {},
   "outputs": [
    {
     "data": {
      "image/png": "[encoded data removed]",
      "text/plain": [
       "<Figure size 1080x1080 with 1 Axes>"
      ]
     },
     "metadata": {},
     "output_type": "display_data"
    }
   ],
   "source": [
    "t = \"Nodes scaled on Betweenness Centrality scores\"\n",
    "plot_graph(G, repo_name_set_graduated, repo_name_set_incubating, repo_name_set_sandbox, 'weighted', t, bc , False, 0.8, \"gainsboro\")"
   ]
  },
  {
   "cell_type": "markdown",
   "metadata": {},
   "source": [
    "## Graph Type 2: Nodes as projects edges as contributors"
   ]
  },
  {
   "cell_type": "code",
   "execution_count": 40,
   "metadata": {},
   "outputs": [],
   "source": [
    "result, common_repo_contri = project_nodes_edges_contributions(merged_df)"
   ]
  },
  {
   "cell_type": "markdown",
   "metadata": {},
   "source": [
    "For plotting the graph below, we pick the repositories as the nodes and let the shared contributions dictate the edge weights"
   ]
  },
  {
   "cell_type": "code",
   "execution_count": 41,
   "metadata": {},
   "outputs": [],
   "source": [
    "g = nx.Graph()\n",
    "g.add_weighted_edges_from(result)"
   ]
  },
  {
   "cell_type": "code",
   "execution_count": 42,
   "metadata": {},
   "outputs": [
    {
     "data": {
      "image/png": "[encoded data removed]",
      "text/plain": [
       "<Figure size 1080x1080 with 1 Axes>"
      ]
     },
     "metadata": {},
     "output_type": "display_data"
    }
   ],
   "source": [
    "t = \"Graph with Nodes as projects and edges as number of contributions\"\n",
    "plot_graph(g, repo_name_set_graduated, repo_name_set_incubating, repo_name_set_sandbox, 'equal', t, None , True, 0.8,)"
   ]
  },
  {
   "cell_type": "markdown",
   "metadata": {},
   "source": [
    "### Lets eliminate the 30% of the furthest connections"
   ]
  },
  {
   "cell_type": "code",
   "execution_count": 43,
   "metadata": {},
   "outputs": [],
   "source": [
    "sorted_contribution_dict = dict(sorted(common_repo_contri.items(), key=lambda item: item[1], reverse=True))"
   ]
  },
  {
   "cell_type": "code",
   "execution_count": 44,
   "metadata": {},
   "outputs": [],
   "source": [
    "tightly_connected_repos = dict(itertools.islice(sorted_contribution_dict.items(), round(0.7*len(sorted_contribution_dict))))"
   ]
  },
  {
   "cell_type": "code",
   "execution_count": 45,
   "metadata": {},
   "outputs": [
    {
     "data": {
      "text/plain": [
       "8"
      ]
     },
     "execution_count": 45,
     "metadata": {},
     "output_type": "execute_result"
    }
   ],
   "source": [
    "len(tightly_connected_repos)"
   ]
  },
  {
   "cell_type": "markdown",
   "metadata": {},
   "source": [
    "### Community Detection\n",
    "\n",
    "To get groups of clusters, lets look at larger congregations with more than 10 projects to get a cleaner view into the main networks"
   ]
  },
  {
   "cell_type": "code",
   "execution_count": 46,
   "metadata": {},
   "outputs": [],
   "source": [
    "graphs = [g.subgraph(c) for c in nx.connected_components(g)]"
   ]
  },
  {
   "cell_type": "code",
   "execution_count": 47,
   "metadata": {},
   "outputs": [],
   "source": [
    "sub_graphs = []\n",
    "for g in graphs:\n",
    "    n = g.nodes()\n",
    "    if g.number_of_nodes() > 5 and (set(n) & set(repo_name_set_sandbox)):\n",
    "        sub_graphs.append(g)"
   ]
  },
  {
   "cell_type": "code",
   "execution_count": 48,
   "metadata": {},
   "outputs": [
    {
     "data": {
      "text/plain": [
       "[<networkx.classes.graph.Graph at 0x7f2e58e33640>]"
      ]
     },
     "execution_count": 48,
     "metadata": {},
     "output_type": "execute_result"
    }
   ],
   "source": [
    "sub_graphs"
   ]
  },
  {
   "cell_type": "code",
   "execution_count": 49,
   "metadata": {},
   "outputs": [
    {
     "data": {
      "image/png": "[encoded data removed]",
      "text/plain": [
       "<Figure size 1080x1080 with 1 Axes>"
      ]
     },
     "metadata": {},
     "output_type": "display_data"
    }
   ],
   "source": [
    "for graph in sub_graphs:\n",
    "    plot_graph(graph, repo_name_set_graduated, repo_name_set_incubating, repo_name_set_sandbox, 'equal', t, None , True, 0.8,)"
   ]
  },
  {
   "cell_type": "code",
   "execution_count": 50,
   "metadata": {},
   "outputs": [],
   "source": [
    "top_graduated_cc, top_incubating_cc, top_sandbox_cc, cc, repo_scores = get_closeness_centrality(sub_graphs[0], 100, repo_name_set_graduated, repo_name_set_incubating, repo_name_set_sandbox, repo_scores)"
   ]
  },
  {
   "cell_type": "code",
   "execution_count": 51,
   "metadata": {},
   "outputs": [
    {
     "data": {
      "text/plain": [
       "{'kubernetes': 0.9,\n",
       " 'helm': 0.6,\n",
       " 'etcd': 0.5,\n",
       " 'fluentd': 0.5,\n",
       " 'argo-cd': 0.391304347826087}"
      ]
     },
     "execution_count": 51,
     "metadata": {},
     "output_type": "execute_result"
    }
   ],
   "source": [
    "top_graduated_cc"
   ]
  },
  {
   "cell_type": "code",
   "execution_count": 52,
   "metadata": {},
   "outputs": [
    {
     "data": {
      "text/plain": [
       "{'kubeedge': 0.5294117647058824, 'thanos': 0.5294117647058824, 'serving': 0.5}"
      ]
     },
     "execution_count": 52,
     "metadata": {},
     "output_type": "execute_result"
    }
   ],
   "source": [
    "top_incubating_cc"
   ]
  },
  {
   "cell_type": "code",
   "execution_count": 53,
   "metadata": {},
   "outputs": [
    {
     "data": {
      "text/plain": [
       "{'osm': 0.5625, 'keylime': 0.5}"
      ]
     },
     "execution_count": 53,
     "metadata": {},
     "output_type": "execute_result"
    }
   ],
   "source": [
    "top_sandbox_cc"
   ]
  },
  {
   "cell_type": "code",
   "execution_count": 54,
   "metadata": {},
   "outputs": [
    {
     "data": {
      "text/html": [
       "<div>\n",
       "<style scoped>\n",
       "    .dataframe tbody tr th:only-of-type {\n",
       "        vertical-align: middle;\n",
       "    }\n",
       "\n",
       "    .dataframe tbody tr th {\n",
       "        vertical-align: top;\n",
       "    }\n",
       "\n",
       "    .dataframe thead th {\n",
       "        text-align: right;\n",
       "    }\n",
       "</style>\n",
       "<table border=\"1\" class=\"dataframe\">\n",
       "  <thead>\n",
       "    <tr style=\"text-align: right;\">\n",
       "      <th></th>\n",
       "      <th>repo</th>\n",
       "      <th>page_rank</th>\n",
       "      <th>betweenness_centrality</th>\n",
       "      <th>closeness_centrality</th>\n",
       "    </tr>\n",
       "  </thead>\n",
       "  <tbody>\n",
       "    <tr>\n",
       "      <th>0</th>\n",
       "      <td>etcd</td>\n",
       "      <td>0.048595</td>\n",
       "      <td>0.179027</td>\n",
       "      <td>0.500000</td>\n",
       "    </tr>\n",
       "    <tr>\n",
       "      <th>1</th>\n",
       "      <td>helm</td>\n",
       "      <td>0.008971</td>\n",
       "      <td>0.093588</td>\n",
       "      <td>0.600000</td>\n",
       "    </tr>\n",
       "    <tr>\n",
       "      <th>2</th>\n",
       "      <td>fluentd</td>\n",
       "      <td>0.034758</td>\n",
       "      <td>0.136403</td>\n",
       "      <td>0.500000</td>\n",
       "    </tr>\n",
       "    <tr>\n",
       "      <th>3</th>\n",
       "      <td>kubernetes</td>\n",
       "      <td>0.248841</td>\n",
       "      <td>0.873478</td>\n",
       "      <td>0.900000</td>\n",
       "    </tr>\n",
       "    <tr>\n",
       "      <th>4</th>\n",
       "      <td>argo-cd</td>\n",
       "      <td>0.016050</td>\n",
       "      <td>0.063250</td>\n",
       "      <td>0.391304</td>\n",
       "    </tr>\n",
       "    <tr>\n",
       "      <th>5</th>\n",
       "      <td>thanos</td>\n",
       "      <td>0.010959</td>\n",
       "      <td>0.040848</td>\n",
       "      <td>0.529412</td>\n",
       "    </tr>\n",
       "    <tr>\n",
       "      <th>6</th>\n",
       "      <td>kubeedge</td>\n",
       "      <td>0.014583</td>\n",
       "      <td>0.050256</td>\n",
       "      <td>0.529412</td>\n",
       "    </tr>\n",
       "    <tr>\n",
       "      <th>7</th>\n",
       "      <td>keptn-1</td>\n",
       "      <td>0.009578</td>\n",
       "      <td>0.000384</td>\n",
       "      <td>NaN</td>\n",
       "    </tr>\n",
       "    <tr>\n",
       "      <th>8</th>\n",
       "      <td>serving</td>\n",
       "      <td>0.035270</td>\n",
       "      <td>0.135063</td>\n",
       "      <td>0.500000</td>\n",
       "    </tr>\n",
       "    <tr>\n",
       "      <th>9</th>\n",
       "      <td>community</td>\n",
       "      <td>NaN</td>\n",
       "      <td>NaN</td>\n",
       "      <td>NaN</td>\n",
       "    </tr>\n",
       "    <tr>\n",
       "      <th>10</th>\n",
       "      <td>keylime</td>\n",
       "      <td>0.010435</td>\n",
       "      <td>0.040515</td>\n",
       "      <td>0.500000</td>\n",
       "    </tr>\n",
       "    <tr>\n",
       "      <th>11</th>\n",
       "      <td>strimzi-kafka-operator</td>\n",
       "      <td>0.010635</td>\n",
       "      <td>0.000479</td>\n",
       "      <td>NaN</td>\n",
       "    </tr>\n",
       "    <tr>\n",
       "      <th>12</th>\n",
       "      <td>kubedl</td>\n",
       "      <td>0.001825</td>\n",
       "      <td>0.000007</td>\n",
       "      <td>NaN</td>\n",
       "    </tr>\n",
       "    <tr>\n",
       "      <th>13</th>\n",
       "      <td>osm</td>\n",
       "      <td>0.009512</td>\n",
       "      <td>0.034049</td>\n",
       "      <td>0.562500</td>\n",
       "    </tr>\n",
       "  </tbody>\n",
       "</table>\n",
       "</div>"
      ],
      "text/plain": [
       "                      repo  page_rank  betweenness_centrality  \\\n",
       "0                     etcd   0.048595                0.179027   \n",
       "1                     helm   0.008971                0.093588   \n",
       "2                  fluentd   0.034758                0.136403   \n",
       "3               kubernetes   0.248841                0.873478   \n",
       "4                  argo-cd   0.016050                0.063250   \n",
       "5                   thanos   0.010959                0.040848   \n",
       "6                 kubeedge   0.014583                0.050256   \n",
       "7                  keptn-1   0.009578                0.000384   \n",
       "8                  serving   0.035270                0.135063   \n",
       "9                community        NaN                     NaN   \n",
       "10                 keylime   0.010435                0.040515   \n",
       "11  strimzi-kafka-operator   0.010635                0.000479   \n",
       "12                  kubedl   0.001825                0.000007   \n",
       "13                     osm   0.009512                0.034049   \n",
       "\n",
       "    closeness_centrality  \n",
       "0               0.500000  \n",
       "1               0.600000  \n",
       "2               0.500000  \n",
       "3               0.900000  \n",
       "4               0.391304  \n",
       "5               0.529412  \n",
       "6               0.529412  \n",
       "7                    NaN  \n",
       "8               0.500000  \n",
       "9                    NaN  \n",
       "10              0.500000  \n",
       "11                   NaN  \n",
       "12                   NaN  \n",
       "13              0.562500  "
      ]
     },
     "execution_count": 54,
     "metadata": {},
     "output_type": "execute_result"
    }
   ],
   "source": [
    "repo_scores"
   ]
  }
 ],
 "metadata": {
  "kernelspec": {
   "display_name": "Python 3",
   "language": "python",
   "name": "python3"
  },
  "language_info": {
   "codemirror_mode": {
    "name": "ipython",
    "version": 3
   },
   "file_extension": ".py",
   "mimetype": "text/x-python",
   "name": "python",
   "nbconvert_exporter": "python",
   "pygments_lexer": "ipython3",
   "version": "3.8.3"
  },
  "toc": {
   "base_numbering": 1,
   "nav_menu": {},
   "number_sections": true,
   "sideBar": true,
   "skip_h1_title": false,
   "title_cell": "Table of Contents",
   "title_sidebar": "Contents",
   "toc_cell": false,
   "toc_position": {},
   "toc_section_display": true,
   "toc_window_display": false
  }
 },
 "nbformat": 4,
 "nbformat_minor": 4
}
